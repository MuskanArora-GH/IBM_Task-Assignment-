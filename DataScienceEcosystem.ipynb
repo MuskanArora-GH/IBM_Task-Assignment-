{
 "cells": [
  {
   "cell_type": "markdown",
   "metadata": {},
   "source": [
    "<center>\n",
    "    <img src=\"https://cf-courses-data.s3.us.cloud-object-storage.appdomain.cloud/IBMDeveloperSkillsNetwork-DS0105EN-SkillsNetwork/labs/Module2/images/SN_web_lightmode.png\" width=\"300\" alt=\"cognitiveclass.ai logo\">\n",
    "</center>\n"
   ]
  },
  {
   "cell_type": "markdown",
   "metadata": {},
   "source": [
    "# Data Science Tools And Ecosystem\n"
   ]
  },
  {
   "cell_type": "markdown",
   "metadata": {},
   "source": [
    "#### Explore the dynamic universe of data science tools and ecosystem through the contents of this notebook"
   ]
  },
  {
   "cell_type": "markdown",
   "metadata": {},
   "source": [
    "#### Some of the popular languages that Data Scientists use are:\n",
    "1. Python:- Python is the go-to language for data scientists. It boasts extensive libraries like NumPy, Pandas, and Matplotlib, making it versatile for data analysis, visualization, and machine learning.\n",
    "\n",
    "2. R:- R is known for its statistical analysis capabilities. Data scientists use it for tasks like regression, data manipulation, and data visualization, with a rich ecosystem of packages and community support.\n",
    "\n",
    "3. SQL:- SQL (Structured Query Language) is essential for managing and querying relational databases. Data scientists use SQL to extract, clean, and organize data for analysis."
   ]
  },
  {
   "cell_type": "markdown",
   "metadata": {
    "tags": []
   },
   "source": [
    "#### Some of the commonly used libraries used by Data Scientists include:\n",
    "1. NumPy:- NumPy is a fundamental library for scientific computing in Python. It provides support for arrays, matrices, and a large collection of mathematical functions to operate on these data structures efficiently. Data scientists use NumPy for various numerical and matrix operations.\n",
    "\n",
    "2. Pandas:- Pandas is a data manipulation and analysis library. It offers data structures like DataFrames and Series that make it easy to handle, clean, and explore datasets. Data scientists use Pandas for data preprocessing, analysis, and transformation.\n",
    "\n",
    "3. Matplotlib:- Matplotlib is a popular data visualization library in Python. It allows data scientists to create a wide range of static, animated, or interactive plots and charts, making it a vital tool for data exploration and presentation.\n",
    "\n",
    "4. Seaborn:- Seaborn is a higher-level data visualization library that works in conjunction with Matplotlib. It simplifies the creation of attractive statistical visualizations. Data scientists use Seaborn to create informative and aesthetically pleasing plots.\n",
    "\n",
    "5. Scikit-Learn:- Scikit-Learn is a machine learning library that provides a wide variety of machine learning algorithms and tools for tasks like classification, regression, clustering, and model evaluation. Data scientists use Scikit-Learn for building, training, and evaluating machine learning models.\n",
    "6. TensorFlow:- TensorFlow is an open-source machine learning framework developed by Google. It is widely used for deep learning and neural network applications. Data scientists use TensorFlow to build and train complex deep learning models.\n",
    "\n",
    "7. PyTorch:- PyTorch is another deep learning framework that has gained popularity, especially in the research community. It offers dynamic computation graphs and is known for its flexibility in developing and training neural networks."
   ]
  },
  {
   "cell_type": "markdown",
   "metadata": {},
   "source": [
    "### Data Science Tools"
   ]
  },
  {
   "cell_type": "code",
   "execution_count": null,
   "metadata": {},
   "outputs": [],
   "source": [
    "Data Science Tools\tDevelopment Environment (Open Source)\n",
    "1. Python\t1. Jupyter Notebook\n",
    "2. R\t2. RStudio\n",
    "3. SAS\t3. Visual Studio Code (VS Code)"
   ]
  },
  {
   "cell_type": "markdown",
   "metadata": {},
   "source": [
    "### Below are a few examples of evaluating arithmetic expressions in Python"
   ]
  },
  {
   "cell_type": "markdown",
   "metadata": {},
   "source": [
    "####  Basic Arithmetic Operations:\n",
    "\n",
    "a = 5\n",
    "b = 3\n",
    "##### Addition\n",
    "sum_result = a + b\n",
    "##### Subtraction\n",
    "difference = a - b\n",
    "##### Product\n",
    "product = a * b\n",
    "##### Division\n",
    "quotient = a / b"
   ]
  },
  {
   "cell_type": "markdown",
   "metadata": {},
   "source": [
    "#### This a simple arithmetic expression to mutiply then add integers"
   ]
  },
  {
   "cell_type": "code",
   "execution_count": 3,
   "metadata": {
    "tags": []
   },
   "outputs": [
    {
     "data": {
      "text/plain": [
       "17"
      ]
     },
     "execution_count": 3,
     "metadata": {},
     "output_type": "execute_result"
    }
   ],
   "source": [
    "expression = (3 * 4) + 5\n",
    "expression"
   ]
  },
  {
   "cell_type": "markdown",
   "metadata": {},
   "source": [
    " #### This will convert 200 minutes to hours by diving by 60"
   ]
  },
  {
   "cell_type": "code",
   "execution_count": 6,
   "metadata": {
    "tags": []
   },
   "outputs": [
    {
     "data": {
      "text/plain": [
       "3.3333333333333335"
      ]
     },
     "execution_count": 6,
     "metadata": {},
     "output_type": "execute_result"
    }
   ],
   "source": [
    "minutes = 200\n",
    "hour = minutes / 60\n",
    "hour"
   ]
  },
  {
   "cell_type": "markdown",
   "metadata": {},
   "source": [
    "## **Objectives:**\n",
    "\n",
    "- List of the popular languages used by Data Scientists.\n",
    "- Some of the commonly used libraries used by Data Scientists\n",
    "- Data Science Tools\n",
    "- Few examples of evaluating arithmetic expressions in Python.\n",
    "- Simple arithmetic expression to mutiply then add integers.\n",
    "- Convert 200 minutes to hours by diving by 60"
   ]
  },
  {
   "cell_type": "markdown",
   "metadata": {},
   "source": [
    "## Author\n",
    "Muskan Arora"
   ]
  }
 ],
 "metadata": {
  "kernelspec": {
   "display_name": "Python",
   "language": "python",
   "name": "conda-env-python-py"
  },
  "language_info": {
   "codemirror_mode": {
    "name": "ipython",
    "version": 3
   },
   "file_extension": ".py",
   "mimetype": "text/x-python",
   "name": "python",
   "nbconvert_exporter": "python",
   "pygments_lexer": "ipython3",
   "version": "3.7.12"
  }
 },
 "nbformat": 4,
 "nbformat_minor": 4
}
